{
 "cells": [
  {
   "cell_type": "markdown",
   "id": "a02585be-7aeb-416b-b1d8-0a7914e2021b",
   "metadata": {},
   "source": [
    "# DAMEX implementation\n",
    "_Mathis Hardion_"
   ]
  },
  {
   "cell_type": "code",
   "execution_count": 1,
   "id": "a6c59cf5-b0e4-4440-80fa-a3b8d4b1ec8a",
   "metadata": {},
   "outputs": [],
   "source": [
    "# Imports\n",
    "import numpy as np\n",
    "import pandas as pd\n",
    "from sklearn.metrics import roc_auc_score, average_precision_score\n",
    "from sklearn.neighbors import LocalOutlierFactor\n",
    "from sklearn.ensemble import IsolationForest\n",
    "from sklearn.datasets import fetch_covtype\n",
    "from sklearn.utils import shuffle\n",
    "\n",
    "# Set rng\n",
    "rng = np.random.default_rng(seed=0)"
   ]
  },
  {
   "cell_type": "code",
   "execution_count": 2,
   "id": "b7309873-9690-42b9-8bc0-94faff5e6d89",
   "metadata": {},
   "outputs": [],
   "source": [
    "# Helper to make boolean arrays hashable\n",
    "def binary_to_str(alpha):\n",
    "    return \"\".join(alpha.astype(int).astype(str))"
   ]
  },
  {
   "cell_type": "code",
   "execution_count": 3,
   "id": "bccdba06-5828-4c2d-9fe0-f8312e1e0c3e",
   "metadata": {},
   "outputs": [],
   "source": [
    "# Dictionary to store only nonzero components of the estimator\n",
    "class M_hat:\n",
    "    def __init__(self):\n",
    "        self._dict = {}\n",
    "\n",
    "    def __setitem__(self, alpha, val):\n",
    "        self._dict[binary_to_str(alpha)] = val\n",
    "\n",
    "    def __getitem__(self, alpha):\n",
    "        try:\n",
    "            return self._dict[binary_to_str(alpha)]\n",
    "        except KeyError:\n",
    "            return 0\n",
    "\n",
    "    def __len__(self):\n",
    "        return len(self._dict)\n",
    "\n",
    "    def avg_dim(self):\n",
    "        keys = self._dict.keys()\n",
    "        return sum(k.count('1') for k in keys)/len(keys)\n",
    "    \n",
    "    def apply_thresholding(self, threshold):\n",
    "        for key in list(self._dict.keys()):\n",
    "                if self._dict[key] < threshold:\n",
    "                    del self._dict[key]"
   ]
  },
  {
   "cell_type": "code",
   "execution_count": 4,
   "id": "03e0e2f0-d3ba-41a0-993c-42ff6906dd4f",
   "metadata": {},
   "outputs": [],
   "source": [
    "# Damex pipeline in a class akin to sklearn estimators\n",
    "class DAMEX:\n",
    "    def __init__(self, eps=0.01, k_fn=lambda n: int(np.sqrt(n)), p=0.1):\n",
    "        # Set parameters\n",
    "        self.eps = eps\n",
    "        self.k_fn = k_fn\n",
    "        self.p = p\n",
    "        self.M = M_hat()\n",
    "        self.data = None\n",
    "        self.n = 0\n",
    "        self.k = 0\n",
    "        self.t = 0\n",
    "        self.V = np.zeros(0)\n",
    "\n",
    "    def rank_transform(self, X):\n",
    "        # Transform data based on ecdf\n",
    "        n, d = X.shape\n",
    "        V = np.zeros((n, d))\n",
    "        data = np.zeros((n, d))\n",
    "        for j in range(d):\n",
    "            idx = np.argsort(X[:,j])\n",
    "            data[:,j] = X[idx, j]\n",
    "            V[idx, j] = 1/(1-np.arange(n)/(n+1))\n",
    "        return V, data\n",
    "        \n",
    "    def fit(self, X):\n",
    "        n, d = X.shape\n",
    "        self.n = n\n",
    "        self.d = d\n",
    "        self.data = np.zeros((n, d))\n",
    "        # Rank transform\n",
    "        V, data = self.rank_transform(X)\n",
    "        self.data = np.vstack((data, np.inf*np.ones(d)))\n",
    "        self.V = V\n",
    "        # Estimation\n",
    "        k = self.k_fn(n)\n",
    "        self.k = k\n",
    "        self.t = n/k\n",
    "        Mtot = 0\n",
    "        for i in range(n):\n",
    "            alpha = V[i,:] > self.eps*self.t\n",
    "            if alpha.sum():\n",
    "                Mtot += 1/k\n",
    "                self.M[alpha] = self.M[alpha] + 1/k\n",
    "        # Thresholding\n",
    "        card_A = len(self.M)\n",
    "        threshold = self.p*Mtot/card_A\n",
    "        self.M.apply_thresholding(threshold)\n",
    "    \n",
    "    def T(self, x):\n",
    "        # Empirical transform based on training data\n",
    "        idx = (x <= self.data).argmax(axis=0)\n",
    "        v = 1/(1-idx/(self.n+1))\n",
    "        return v\n",
    "    \n",
    "    def extreme_region(self, X):\n",
    "        # Obtain extreme region of a set based on parameters\n",
    "        V, _ = self.rank_transform(X)\n",
    "        return V.max(axis=1) >= self.k\n",
    "    def sn(self, x):\n",
    "        # Scoring function\n",
    "        v = self.T(x)\n",
    "        alpha = v > self.eps*self.t\n",
    "        return self.M[alpha]/v.max()\n",
    "\n",
    "    def predict(self, X):\n",
    "        return np.array([self.sn(x) for x in X])"
   ]
  },
  {
   "cell_type": "code",
   "execution_count": 18,
   "id": "3a4b0a14-d1a6-4580-be61-86dbf1140ed0",
   "metadata": {},
   "outputs": [],
   "source": [
    "# Get forestcover data\n",
    "X, y = fetch_covtype(return_X_y=True, as_frame=True)\n",
    "X, y = shuffle(X.to_numpy(), y.to_numpy())\n",
    "X = X[(y == 2) | (y == 4)]\n",
    "y = y[(y == 2) | (y == 4)]\n",
    "y[y == 2] = 0\n",
    "y[y == 4] = 1"
   ]
  },
  {
   "cell_type": "code",
   "execution_count": 19,
   "id": "eed2a801-6b90-49da-9937-ab58381ebc75",
   "metadata": {},
   "outputs": [
    {
     "data": {
      "text/plain": [
       "(286048, 54)"
      ]
     },
     "execution_count": 19,
     "metadata": {},
     "output_type": "execute_result"
    }
   ],
   "source": [
    "X.shape"
   ]
  },
  {
   "cell_type": "code",
   "execution_count": 40,
   "id": "96c712a2-818b-4550-b790-4439964aa8cd",
   "metadata": {},
   "outputs": [],
   "source": [
    "def repeat_experiments(X, y, estimators, N_exp, k_fn=lambda n: int(np.sqrt(n)), eps=.01):\n",
    "    results = pd.DataFrame(columns=[\"ROC AUC\", \"PR AUC\"], index=[\"DAMEX\"] + [est.__class__.__name__ for est in estimators],\n",
    "                          data=0.)\n",
    "    anormal = y.astype(bool)\n",
    "    X_normal = X[~anormal]\n",
    "    y_normal = y[~anormal]\n",
    "    n = len(y_normal)\n",
    "    damex = DAMEX(k_fn=k_fn, eps=eps)\n",
    "    avg_dim = 0\n",
    "    for _ in range(N_exp):\n",
    "        # Select training set among normal samples\n",
    "        train = rng.binomial(1, .8, size=n).astype(bool)\n",
    "        X_train = X_normal[train,:]\n",
    "        y_train = y_normal[train]\n",
    "        # Fit estimators\n",
    "        damex.fit(X_train)\n",
    "        avg_dim += damex.M.avg_dim()/N_exp\n",
    "        for est in estimators:\n",
    "            est.fit(X_train)\n",
    "        # Test on extreme region only\n",
    "        extreme = damex.extreme_region(X)\n",
    "        test_normal = ~train & extreme[~anormal]\n",
    "        test_anormal = extreme[anormal]\n",
    "        X_test = np.vstack((X_normal[test_normal,:], X[anormal][test_anormal]))\n",
    "        y_test = np.concatenate((y_normal[test_normal], y[anormal][test_anormal]))\n",
    "        scores = damex.predict(X_test)\n",
    "        results.loc[\"DAMEX\", \"ROC AUC\"] += roc_auc_score(y_test, -scores)/N_exp\n",
    "        results.loc[\"DAMEX\", \"PR AUC\"] += average_precision_score(y_test, -scores)/N_exp\n",
    "        for est in estimators:\n",
    "            scores = est.decision_function(X_test)\n",
    "            results.loc[est.__class__.__name__, \"ROC AUC\"] += roc_auc_score(y_test, -scores)/N_exp\n",
    "            results.loc[est.__class__.__name__, \"PR AUC\"] += average_precision_score(y_test, -scores)/N_exp\n",
    "    return results, avg_dim"
   ]
  },
  {
   "cell_type": "code",
   "execution_count": 48,
   "id": "0980af02-75c7-4b08-95e6-a9cc4e7752bc",
   "metadata": {
    "scrolled": true
   },
   "outputs": [],
   "source": [
    "# Only consider a subset of the data\n",
    "N = 150000\n",
    "# Hyperparameters\n",
    "k_fn = lambda n: int(n**.25*np.log(n))\n",
    "n = (.8*N)\n",
    "d = X.shape[1]\n",
    "eps = k_fn(n)**(1/3)*(1/d)**(4/3)\n",
    "estimators = [IsolationForest(), LocalOutlierFactor(novelty=True)]\n",
    "results, avg_dim = repeat_experiments(X[:80000], y[:80000], estimators, 10, k_fn=k_fn, eps=eps)"
   ]
  },
  {
   "cell_type": "code",
   "execution_count": 49,
   "id": "7ba499d0-0463-48eb-a630-fa1a266d3305",
   "metadata": {},
   "outputs": [
    {
     "data": {
      "text/html": [
       "<div>\n",
       "<style scoped>\n",
       "    .dataframe tbody tr th:only-of-type {\n",
       "        vertical-align: middle;\n",
       "    }\n",
       "\n",
       "    .dataframe tbody tr th {\n",
       "        vertical-align: top;\n",
       "    }\n",
       "\n",
       "    .dataframe thead th {\n",
       "        text-align: right;\n",
       "    }\n",
       "</style>\n",
       "<table border=\"1\" class=\"dataframe\">\n",
       "  <thead>\n",
       "    <tr style=\"text-align: right;\">\n",
       "      <th></th>\n",
       "      <th>ROC AUC</th>\n",
       "      <th>PR AUC</th>\n",
       "    </tr>\n",
       "  </thead>\n",
       "  <tbody>\n",
       "    <tr>\n",
       "      <th>DAMEX</th>\n",
       "      <td>0.906492</td>\n",
       "      <td>0.639453</td>\n",
       "    </tr>\n",
       "    <tr>\n",
       "      <th>IsolationForest</th>\n",
       "      <td>0.889512</td>\n",
       "      <td>0.600632</td>\n",
       "    </tr>\n",
       "    <tr>\n",
       "      <th>LocalOutlierFactor</th>\n",
       "      <td>0.994338</td>\n",
       "      <td>0.980775</td>\n",
       "    </tr>\n",
       "  </tbody>\n",
       "</table>\n",
       "</div>"
      ],
      "text/plain": [
       "                     ROC AUC    PR AUC\n",
       "DAMEX               0.906492  0.639453\n",
       "IsolationForest     0.889512  0.600632\n",
       "LocalOutlierFactor  0.994338  0.980775"
      ]
     },
     "execution_count": 49,
     "metadata": {},
     "output_type": "execute_result"
    }
   ],
   "source": [
    "results"
   ]
  },
  {
   "cell_type": "code",
   "execution_count": 50,
   "id": "f5f398bd-c270-4fa3-9175-e6b86cab87e4",
   "metadata": {},
   "outputs": [
    {
     "data": {
      "text/plain": [
       "20.68608936087504"
      ]
     },
     "execution_count": 50,
     "metadata": {},
     "output_type": "execute_result"
    }
   ],
   "source": [
    "avg_dim"
   ]
  }
 ],
 "metadata": {
  "kernelspec": {
   "display_name": "Python 3 (ipykernel)",
   "language": "python",
   "name": "python3"
  },
  "language_info": {
   "codemirror_mode": {
    "name": "ipython",
    "version": 3
   },
   "file_extension": ".py",
   "mimetype": "text/x-python",
   "name": "python",
   "nbconvert_exporter": "python",
   "pygments_lexer": "ipython3",
   "version": "3.11.6"
  }
 },
 "nbformat": 4,
 "nbformat_minor": 5
}
